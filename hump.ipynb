{
 "cells": [
  {
   "cell_type": "code",
   "execution_count": 16,
   "metadata": {},
   "outputs": [],
   "source": [
    "import numpy as np\n",
    "import pandas as pd\n",
    "from scipy.linalg import eigh, expm, ishermitian\n",
    "\n",
    "import seaborn as sns\n",
    "import matplotlib.pyplot as plt\n",
    "\n",
    "from qiskit import QuantumCircuit, QuantumRegister, transpile\n",
    "# from qiskit.circuit.library import UnitaryGate\n",
    "from qiskit_aer import Aer\n",
    "\n",
    "np.random.seed(9112001)\n",
    "np.set_printoptions(precision=5)"
   ]
  },
  {
   "cell_type": "code",
   "execution_count": 17,
   "metadata": {},
   "outputs": [],
   "source": [
    "def get_random_H(N, bound):\n",
    "    N_h = 2 ** N\n",
    "    A = 0.5 * (2 * bound * np.random.rand(N_h, N_h) + 2 * bound * 1j * np.random.rand(N_h, N_h) - bound) \n",
    "    H = A + A.conj().T\n",
    "\n",
    "    return H\n",
    "\n",
    "def get_approx_itimeop(ham, M, t):\n",
    "    evop1 = expm(ham * t/M * 1j)\n",
    "    evop2 = expm(ham * t/M * -1j)\n",
    "    alpha_p = np.exp(3/4 * np.pi * 1j) / np.sqrt(2)\n",
    "    alpha_m = np.exp(3/4 * np.pi * -1j) / np.sqrt(2)\n",
    "    S_op = 2 * np.identity(ham.shape[0]) + alpha_p * evop1 + alpha_m * evop2\n",
    "\n",
    "    return S_op\n",
    "\n",
    "def get_exact_itimeop(ham, M, t):\n",
    "    exp_op = expm(-ham * t/M)\n",
    "\n",
    "    return exp_op"
   ]
  },
  {
   "cell_type": "code",
   "execution_count": 18,
   "metadata": {},
   "outputs": [
    {
     "name": "stdout",
     "output_type": "stream",
     "text": [
      "Smallest eigenvalue: -7.62019\n",
      "Biggest eigenvalue: 6.88190\n",
      "Smallest eigenvalue in magnitude: 0.35586\n",
      "Biggest eigenvalue in magnitude: 7.62019\n"
     ]
    }
   ],
   "source": [
    "N = 3\n",
    "M = 2\n",
    "tt = np.linspace(1, 20, 10)\n",
    "\n",
    "data = []\n",
    "\n",
    "for t in tt:\n",
    "    ham = get_random_H(N, bound=2)\n",
    "    op = get_exact_itimeop(ham, M, t)"
   ]
  },
  {
   "cell_type": "code",
   "execution_count": null,
   "metadata": {},
   "outputs": [],
   "source": []
  }
 ],
 "metadata": {
  "kernelspec": {
   "display_name": ".venv",
   "language": "python",
   "name": "python3"
  },
  "language_info": {
   "codemirror_mode": {
    "name": "ipython",
    "version": 3
   },
   "file_extension": ".py",
   "mimetype": "text/x-python",
   "name": "python",
   "nbconvert_exporter": "python",
   "pygments_lexer": "ipython3",
   "version": "3.11.6"
  }
 },
 "nbformat": 4,
 "nbformat_minor": 2
}
