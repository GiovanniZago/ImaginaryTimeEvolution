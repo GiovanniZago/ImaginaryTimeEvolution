{
 "cells": [
  {
   "cell_type": "code",
   "execution_count": 1,
   "metadata": {},
   "outputs": [],
   "source": [
    "import numpy as np\n",
    "import pandas as pd\n",
    "from scipy.linalg import eigh, expm, ishermitian\n",
    "\n",
    "import seaborn as sns\n",
    "import matplotlib.pyplot as plt\n",
    "\n",
    "from qiskit import QuantumCircuit, QuantumRegister, transpile\n",
    "from qiskit.circuit.library import UnitaryGate\n",
    "from qiskit_aer import Aer\n",
    "\n",
    "np.random.seed(9112001)"
   ]
  },
  {
   "cell_type": "code",
   "execution_count": 2,
   "metadata": {},
   "outputs": [],
   "source": [
    "def get_itimevol_circuit(N, M, H, t, psi_0):\n",
    "    n_anc = 2 * M\n",
    "    \n",
    "    anc_idxs = list(range(n_anc))\n",
    "    sys_idxs = list(range(n_anc, n_anc + N))\n",
    "    alpha    = 2 * np.arctan(np.sqrt(0.5))\n",
    "    beta     = 0.5 * np.pi\n",
    "    gamma    = -1.5 * np.pi\n",
    "    anc      = QuantumRegister(n_anc, name=\"a\")\n",
    "    syst     = QuantumRegister(N, name=\"q\")\n",
    "    qc       = QuantumCircuit(anc, syst)\n",
    "\n",
    "    qc.initialize(psi_0, sys_idxs)\n",
    "\n",
    "    for i in range(2 * M - 1, 0, -2): \n",
    "        # setup gates for ancillary qubits\n",
    "        qc.ry(alpha, i - 1)\n",
    "        qc.ry(beta, i)\n",
    "        qc.cx(i - 1, i, ctrl_state = 0)\n",
    "        qc.crz(gamma, control_qubit = i - 1, target_qubit = i)\n",
    "\n",
    "        U_1    = expm(1j * H * t / M)\n",
    "        U_1_op = UnitaryGate(U_1, label=\"U(-t/M)\").control(1)\n",
    "        qc.append(U_1_op, [i - 1] + sys_idxs) # control on qubit i - 1 and act on the system qubits\n",
    "\n",
    "        U_2    = expm(-2j * H * t / M)\n",
    "        U_2_op = UnitaryGate(U_2, label=\"U(2t/M)\").control(2)\n",
    "        qc.append(U_2_op, [i - 1, i] + sys_idxs) # control on qubits i - 1 and i and act on the system qubits\n",
    "\n",
    "    # setup measurement qubits\n",
    "    qc.h(anc_idxs)\n",
    "\n",
    "    return qc"
   ]
  },
  {
   "cell_type": "code",
   "execution_count": 7,
   "metadata": {},
   "outputs": [
    {
     "name": "stdout",
     "output_type": "stream",
     "text": [
      "Hermeticity check:  True\n",
      "[0.5 0.5 0.5 0.5]\n"
     ]
    }
   ],
   "source": [
    "# consider 3 qubits\n",
    "N   = 2\n",
    "N_q = 2 ** N\n",
    "t   = 2\n",
    "\n",
    "\"\"\" Build A matrix such that the Hamiltoninan has\n",
    "    entries with both real and imaginary part \n",
    "    inside (-bound, bound)\n",
    "\"\"\"\n",
    "bound = 1\n",
    "A = 0.5 * (2 * bound * np.random.rand(N_q, N_q) + 2 * bound * 1j * np.random.rand(N_q, N_q) - bound) \n",
    "H = A + A.conj().T\n",
    "print(\"Hermeticity check: \", ishermitian(H))\n",
    "\n",
    "psi_0 = np.ones(N_q)\n",
    "psi_0 /= np.linalg.norm(psi_0)\n",
    "print(psi_0)"
   ]
  },
  {
   "cell_type": "code",
   "execution_count": 18,
   "metadata": {},
   "outputs": [],
   "source": [
    "M_max    = 10\n",
    "M_values = np.arange(1, M_max + 1)\n",
    "\n",
    "data = []\n",
    "\n",
    "for M in M_values:\n",
    "    qc = get_itimevol_circuit(N, M, H, t, psi_0)\n",
    "\n",
    "    aer_sim = Aer.get_backend(\"aer_simulator_statevector_gpu\")\n",
    "    qc_tp   = transpile(qc, backend=aer_sim, optimization_level=1)\n",
    "\n",
    "    num_nl = qc_tp.num_nonlocal_gates()\n",
    "    depth = qc_tp.depth()\n",
    "    data.append((M, num_nl, depth))\n"
   ]
  },
  {
   "cell_type": "code",
   "execution_count": 25,
   "metadata": {},
   "outputs": [
    {
     "name": "stderr",
     "output_type": "stream",
     "text": [
      "/tmp/ipykernel_52285/3895435758.py:2: UserWarning: Ignoring `palette` because no `hue` variable has been assigned.\n",
      "  sns.scatterplot(df, x = \"M\", y = \"depth\", markers=True, palette=\"tab10\")\n"
     ]
    },
    {
     "data": {
      "image/png": "[encoded data removed]",
      "text/plain": [
       "<Figure size 640x480 with 1 Axes>"
      ]
     },
     "metadata": {},
     "output_type": "display_data"
    }
   ],
   "source": [
    "df = pd.DataFrame(data, columns=[\"M\", \"num_nl\", \"depth\"])\n",
    "sns.scatterplot(df, x = \"M\", y = \"depth\", markers=True, palette=\"tab10\")\n",
    "plt.grid()"
   ]
  }
 ],
 "metadata": {
  "kernelspec": {
   "display_name": ".venv",
   "language": "python",
   "name": "python3"
  },
  "language_info": {
   "codemirror_mode": {
    "name": "ipython",
    "version": 3
   },
   "file_extension": ".py",
   "mimetype": "text/x-python",
   "name": "python",
   "nbconvert_exporter": "python",
   "pygments_lexer": "ipython3",
   "version": "3.11.6"
  }
 },
 "nbformat": 4,
 "nbformat_minor": 2
}
