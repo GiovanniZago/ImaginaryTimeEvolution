{
 "cells": [
  {
   "cell_type": "code",
   "execution_count": 69,
   "metadata": {},
   "outputs": [],
   "source": [
    "import numpy as np\n",
    "import pandas as pd\n",
    "from scipy.linalg import eigh\n",
    "from tqdm.auto import tqdm\n",
    "\n",
    "import seaborn as sns\n",
    "import matplotlib.pyplot as plt\n",
    "\n",
    "from qiskit import transpile\n",
    "from qiskit.circuit.library import UnitaryGate\n",
    "from qiskit_aer import Aer\n",
    "\n",
    "import utils\n",
    "# good seeds (9112001, 9112005)\n",
    "np.random.seed(9112005)\n",
    "np.set_printoptions(precision=5)"
   ]
  },
  {
   "cell_type": "code",
   "execution_count": 70,
   "metadata": {},
   "outputs": [
    {
     "name": "stdout",
     "output_type": "stream",
     "text": [
      "Smallest eigenvalue: -2.36533\n",
      "Biggest eigenvalue: 3.12976\n",
      "Smallest eigenvalue in magnitude v_min (index = 3): 0.44265\n",
      "Biggest eigenvalue in magnitude v_max (index = 7): 3.12976\n",
      "gs is w_max: False\n",
      "Eval associated to evect with index = 7 (w1): 3.12976\n",
      "w1 is w_max: True\n",
      "sp with the eigenstate associated with the largest eigenvalue: 0.07887530053515387\n"
     ]
    }
   ],
   "source": [
    "# consider 3 qubits\n",
    "N   = 3\n",
    "\n",
    "\"\"\" Build A matrix such that the Hamiltoninan has\n",
    "    entries with both real and imaginary part \n",
    "    inside (-bound, bound)\n",
    "\"\"\"\n",
    "bound = 1\n",
    "H = utils.get_random_H(N, bound)\n",
    "\n",
    "evs, w = eigh(H)\n",
    "w      = w.T\n",
    "gs     = w[0] / np.linalg.norm(w[0]) # we need to normalize it because later we calculate eps\n",
    "w_max  = w[np.argmax(np.abs(evs))] # select eigenvector that corresponds to the eigenvalue of maximum module\n",
    "\n",
    "evect_idx = 7\n",
    "w1     = w[evect_idx] / np.linalg.norm(w[evect_idx])\n",
    "\n",
    "v_min = np.min(np.abs(evs))\n",
    "v_max = np.max(np.abs(evs))\n",
    "print(f\"Smallest eigenvalue: {evs[0]:.5f}\")\n",
    "print(f\"Biggest eigenvalue: {evs[-1]:.5f}\")\n",
    "print(f\"Smallest eigenvalue in magnitude v_min (index = {np.argmin(np.abs(evs))}): {v_min:.5f}\")\n",
    "print(f\"Biggest eigenvalue in magnitude v_max (index = {np.argmax(np.abs(evs))}): {v_max:.5f}\")\n",
    "print(f\"gs is w_max: {np.allclose(gs, w_max)}\")\n",
    "print(f\"Eval associated to evect with index = {evect_idx} (w1): {evs[evect_idx]:.5f}\")\n",
    "print(f\"w1 is w_max: {np.allclose(w1, w_max)}\")\n",
    "\n",
    "psi_0 = np.ones(2 ** N)\n",
    "psi_0 /= np.linalg.norm(psi_0)\n",
    "print(f\"sp with the eigenstate associated with the largest eigenvalue: {np.abs(np.vdot(w[-1], psi_0)) ** 2}\")"
   ]
  },
  {
   "cell_type": "code",
   "execution_count": 71,
   "metadata": {},
   "outputs": [
    {
     "name": "stderr",
     "output_type": "stream",
     "text": [
      "100%|██████████| 4/4 [00:08<00:00,  2.15s/it]\n"
     ]
    }
   ],
   "source": [
    "M_max    = 4\n",
    "M_values = np.arange(1, M_max + 1)\n",
    "n_points = 6\n",
    "a_values = np.linspace(0, 1, n_points)\n",
    "\n",
    "data = []\n",
    "\n",
    "for M in tqdm(M_values):\n",
    "    n_anc = 2 * M\n",
    "    t = M / (2 * v_max) # moving along the straight line in the heatmap\n",
    "\n",
    "    qc = utils.get_itimevol_circuit(N, M, H, t, psi_0)\n",
    "    qc.save_statevector()\n",
    "\n",
    "    aer_sim = Aer.get_backend(\"aer_simulator_statevector\")\n",
    "    qc_tp   = transpile(qc, backend=aer_sim)\n",
    "    result  = aer_sim.run(qc_tp, shots=1).result()\n",
    "\n",
    "    final_state_dict     = result.get_statevector(qc_tp).to_dict()\n",
    "    final_state_sys_dict = {}\n",
    "\n",
    "    for k, v in final_state_dict.items():\n",
    "        if k[-n_anc:] == '0' * n_anc:\n",
    "            k_new = k[:N]\n",
    "            final_state_sys_dict[k_new] = v\n",
    "\n",
    "    final_state_sys_list = [(k, v) for k, v in final_state_sys_dict.items()]\n",
    "    final_state_sys_list = sorted(final_state_sys_list)\n",
    "    final_state          = np.array([t[1] for t in final_state_sys_list])\n",
    "    final_state          /= np.linalg.norm(final_state)\n",
    "\n",
    "    fs = np.abs(np.vdot(gs, final_state)) ** 2\n",
    "    data.append((M, fs))"
   ]
  },
  {
   "cell_type": "code",
   "execution_count": 72,
   "metadata": {},
   "outputs": [
    {
     "name": "stdout",
     "output_type": "stream",
     "text": [
      "   M        fs\n",
      "0  1  0.440329\n",
      "1  2  0.281693\n",
      "2  3  0.185942\n",
      "3  4  0.129422\n"
     ]
    }
   ],
   "source": [
    "df = pd.DataFrame(data, columns=[\"M\", \"fs\"])\n",
    "print(df)"
   ]
  }
 ],
 "metadata": {
  "kernelspec": {
   "display_name": ".venv",
   "language": "python",
   "name": "python3"
  },
  "language_info": {
   "codemirror_mode": {
    "name": "ipython",
    "version": 3
   },
   "file_extension": ".py",
   "mimetype": "text/x-python",
   "name": "python",
   "nbconvert_exporter": "python",
   "pygments_lexer": "ipython3",
   "version": "3.11.6"
  }
 },
 "nbformat": 4,
 "nbformat_minor": 2
}
