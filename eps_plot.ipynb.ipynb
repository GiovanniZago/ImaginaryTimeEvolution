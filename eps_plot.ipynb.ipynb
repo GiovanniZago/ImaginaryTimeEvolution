{
 "cells": [
  {
   "cell_type": "code",
   "execution_count": 22,
   "metadata": {},
   "outputs": [],
   "source": [
    "import numpy as np\n",
    "from scipy.linalg import eigh, expm\n",
    "import matplotlib.pyplot as plt\n",
    "from qiskit import QuantumCircuit, QuantumRegister, transpile\n",
    "from qiskit.circuit import ParameterVector\n",
    "from qiskit.circuit.library import PauliEvolutionGate, UnitaryGate\n",
    "from qiskit.synthesis.evolution import LieTrotter\n",
    "from qiskit_aer import Aer\n",
    "from qiskit.visualization import plot_histogram"
   ]
  },
  {
   "cell_type": "code",
   "execution_count": 23,
   "metadata": {},
   "outputs": [],
   "source": [
    "def get_itimevol_circuit(M, H, t, psi_0, reps = 5):\n",
    "    N = 3\n",
    "    N_q = 2 ** N\n",
    "    n_anc = 2 * M\n",
    "    \n",
    "\n",
    "    anc_idxs = list(range(n_anc))\n",
    "    sys_idxs = list(range(n_anc, n_anc + N))\n",
    "    alpha    = 2 * np.arctan(np.sqrt(0.5))\n",
    "    beta     = 0.5 * np.pi\n",
    "    gamma    = -1.5 * np.pi\n",
    "    anc      = QuantumRegister(n_anc, name=\"a\")\n",
    "    syst     = QuantumRegister(N, name=\"q\")\n",
    "    qc       = QuantumCircuit(anc, syst)\n",
    "\n",
    "    qc.initialize(psi_0, sys_idxs)\n",
    "\n",
    "    for i in range(2 * M - 1, 0, -2): \n",
    "        \"\"\" Start from the last couple of qubits (most significative ones)\n",
    "            and then go up until the least significative couple by steps \n",
    "            of two qubits.\n",
    "        \"\"\"\n",
    "        # setup gates for ancillary qubits\n",
    "        qc.ry(alpha, i - 1)\n",
    "        qc.ry(beta, i)\n",
    "        qc.cx(i - 1, i, ctrl_state = 0)\n",
    "        qc.crz(gamma, control_qubit = i - 1, target_qubit = i)\n",
    "\n",
    "        U_1    = expm(1j * H * t / M)\n",
    "        U_1_op = UnitaryGate(U_1, label=\"U(-t/M)\").control(1)\n",
    "        qc.append(U_1_op, [i - 1] + sys_idxs) # control on qubit i - 1 and act on the system qubits\n",
    "\n",
    "        U_2    = expm(-2j * H * t / M)\n",
    "        U_2_op = UnitaryGate(U_2, label=\"U(2t/M)\").control(2)\n",
    "        qc.append(U_2_op, [i - 1, i] + sys_idxs) # control on qubits i - 1 and i and act on the system qubits\n",
    "\n",
    "    # setup measurement qubits\n",
    "    qc.h(anc_idxs)\n",
    "\n",
    "    return qc"
   ]
  },
  {
   "cell_type": "code",
   "execution_count": 24,
   "metadata": {},
   "outputs": [],
   "source": [
    "# consider 3 qubits\n",
    "N = 3\n",
    "N_q = 2 ** N\n",
    "M = 3\n",
    "n_anc = 2 * M\n",
    "t = 1\n",
    "\n",
    "A = np.random.rand(N_q, N_q) + 1j * np.random.rand(N_q, N_q) - 1\n",
    "H = A + A.conj().T\n",
    "\n",
    "evs, w = eigh(H)\n",
    "w = w.T\n",
    "gs = w[0]\n",
    "\n",
    "a_values = np.linspace(0, 1, 5)\n",
    "fs = []\n",
    "\n",
    "for a_0 in a_values:\n",
    "    psi_0 = a_0 * gs + np.sqrt(1 - a_0 ** 2) * w[1]\n",
    "    psi_0 /= np.linalg.norm(psi_0)\n",
    "\n",
    "    qc = get_itimevol_circuit(M, H, t, psi_0)\n",
    "    qc.save_statevector()\n",
    "    aer_sim = Aer.get_backend(\"aer_simulator_statevector_gpu\")\n",
    "    qc_tp = transpile(qc, backend=aer_sim)\n",
    "    result = aer_sim.run(qc_tp).result()\n",
    "\n",
    "    final_state_dict = result.get_statevector(qc_tp).to_dict()\n",
    "    final_state_sys_dict = {}\n",
    "    for k, v in final_state_dict.items():\n",
    "        if k[-n_anc:] == '0' * n_anc: # check if the ancillary qubits are in the |0...0> state\n",
    "            k_new = k[:N]\n",
    "            final_state_sys_dict[k_new] = v\n",
    "    final_state_sys_list = sorted(final_state_sys_dict.items())\n",
    "    final_state = np.array([t[1] for t in final_state_sys_list])\n",
    "    \n",
    "    fs.append(np.abs(np.dot(gs, final_state)) ** 2)"
   ]
  },
  {
   "cell_type": "code",
   "execution_count": 25,
   "metadata": {},
   "outputs": [
    {
     "data": {
      "text/plain": [
       "1.6178042586069126"
      ]
     },
     "execution_count": 25,
     "metadata": {},
     "output_type": "execute_result"
    }
   ],
   "source": [
    "evs[-1] * t"
   ]
  },
  {
   "cell_type": "code",
   "execution_count": 26,
   "metadata": {},
   "outputs": [
    {
     "data": {
      "text/plain": [
       "[<matplotlib.lines.Line2D at 0x78d5299d8a50>]"
      ]
     },
     "execution_count": 26,
     "metadata": {},
     "output_type": "execute_result"
    },
    {
     "data": {
      "image/png": "[encoded data removed]",
      "text/plain": [
       "<Figure size 640x480 with 1 Axes>"
      ]
     },
     "metadata": {},
     "output_type": "display_data"
    }
   ],
   "source": [
    "plt.plot(a_values, 1 - np.array(fs))"
   ]
  }
 ],
 "metadata": {
  "kernelspec": {
   "display_name": ".venv",
   "language": "python",
   "name": "python3"
  },
  "language_info": {
   "codemirror_mode": {
    "name": "ipython",
    "version": 3
   },
   "file_extension": ".py",
   "mimetype": "text/x-python",
   "name": "python",
   "nbconvert_exporter": "python",
   "pygments_lexer": "ipython3",
   "version": "3.11.6"
  }
 },
 "nbformat": 4,
 "nbformat_minor": 2
}
