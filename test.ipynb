{
 "cells": [
  {
   "cell_type": "code",
   "execution_count": 57,
   "metadata": {},
   "outputs": [],
   "source": [
    "import numpy as np\n",
    "from qiskit import QuantumCircuit, QuantumRegister, ClassicalRegister, execute\n",
    "from qiskit.quantum_info import SparsePauliOp\n",
    "from qiskit.circuit.library import PauliEvolutionGate, HGate\n",
    "from qiskit_aer import Aer\n",
    "from qiskit.visualization import plot_histogram\n",
    "import matplotlib.pyplot as plt\n",
    "\n",
    "backend = Aer.get_backend(\"qasm_simulator\")\n",
    "num_shots = 1024\n",
    "\n",
    "N = 2\n",
    "M = 1\n",
    "n_anc = 2 * M\n",
    "\n",
    "def get_hamilt_op(N, lambd):\n",
    "    hlist = []\n",
    "    coeffs = []\n",
    "    \n",
    "    for i in range(N - 1):\n",
    "        text = \"I\" * i + \"ZZ\" + \"I\" * (N - i - 2)\n",
    "        hlist.append(text)\n",
    "        coeffs.append(1)\n",
    "\n",
    "    if lambd:\n",
    "        for i in range(N):\n",
    "            text = \"I\" * i + \"X\" + \"I\" * (N - i - 1)\n",
    "            hlist.append(text)\n",
    "            coeffs.append(lambd)\n",
    "\n",
    "    return SparsePauliOp(hlist, coeffs=coeffs)"
   ]
  },
  {
   "cell_type": "markdown",
   "metadata": {},
   "source": [
    "### Test circuit for the ancillary qubits"
   ]
  },
  {
   "cell_type": "code",
   "execution_count": 58,
   "metadata": {},
   "outputs": [
    {
     "name": "stdout",
     "output_type": "stream",
     "text": [
      "        ┌───────────┐                   ░ ┌─┐   \n",
      "   a_0: ┤ Ry(1.231) ├──o────────■───────░─┤M├───\n",
      "        └┬─────────┬┘┌─┴─┐┌─────┴─────┐ ░ └╥┘┌─┐\n",
      "   a_1: ─┤ Ry(π/2) ├─┤ X ├┤ Rz(-3π/2) ├─░──╫─┤M├\n",
      "         └─────────┘ └───┘└───────────┘ ░  ║ └╥┘\n",
      "meas: 2/═══════════════════════════════════╩══╩═\n",
      "                                           0  1 \n"
     ]
    },
    {
     "data": {
      "image/png": "[encoded data removed]",
      "text/plain": [
       "<Figure size 700x500 with 1 Axes>"
      ]
     },
     "execution_count": 58,
     "metadata": {},
     "output_type": "execute_result"
    }
   ],
   "source": [
    "anc = QuantumRegister(n_anc, name=\"a\")\n",
    "syst = QuantumRegister(N, name=\"q\")\n",
    "qc = QuantumCircuit(anc)\n",
    "\n",
    "alpha = 2 * np.arctan(np.sqrt(0.5))\n",
    "beta = 0.5 * np.pi\n",
    "gamma = -1.5 * np.pi\n",
    "\n",
    "qc.ry(alpha, 0)\n",
    "qc.ry(beta, 1)\n",
    "qc.cx(0, 1, ctrl_state=0)\n",
    "qc.crz(gamma, control_qubit=0, target_qubit=1)\n",
    "\n",
    "qc.measure_all()\n",
    "print(qc)\n",
    "results = execute(qc, backend=backend, num_shots=num_shots)\n",
    "counts = results.result().get_counts()\n",
    "\n",
    "plot_histogram(counts)"
   ]
  },
  {
   "cell_type": "markdown",
   "metadata": {},
   "source": [
    "### Test the complete circuit, single iteration"
   ]
  },
  {
   "cell_type": "code",
   "execution_count": 69,
   "metadata": {},
   "outputs": [
    {
     "name": "stdout",
     "output_type": "stream",
     "text": [
      "              ┌───────────┐                                                »\n",
      "a_0: ─────────┤ Ry(1.231) ├────────────o────────■───────────────■──────────»\n",
      "              └┬─────────┬┘          ┌─┴─┐┌─────┴─────┐         │          »\n",
      "a_1: ──────────┤ Ry(π/2) ├───────────┤ X ├┤ Rz(-3π/2) ├─────────┼──────────»\n",
      "     ┌─────────┴─────────┴──────────┐└───┘└───────────┘┌────────┴─────────┐»\n",
      "q_0: ┤0                             ├──────────────────┤0                 ├»\n",
      "     │  Initialize(0.5,0.5,0.5,0.5) │                  │  exp(-it ZZ)(-1) │»\n",
      "q_1: ┤1                             ├──────────────────┤1                 ├»\n",
      "     └──────────────────────────────┘                  └──────────────────┘»\n",
      "«                        ┌───┐\n",
      "«a_0: ─────────■─────────┤ H ├\n",
      "«              │         ├───┤\n",
      "«a_1: ─────────■─────────┤ H ├\n",
      "«     ┌────────┴────────┐└───┘\n",
      "«q_0: ┤0                ├─────\n",
      "«     │  exp(-it ZZ)(2) │     \n",
      "«q_1: ┤1                ├─────\n",
      "«     └─────────────────┘     \n",
      "dict_values([108, 9, 129, 5])\n"
     ]
    },
    {
     "data": {
      "image/png": "[encoded data removed]",
      "text/plain": [
       "<Figure size 640x480 with 1 Axes>"
      ]
     },
     "metadata": {},
     "output_type": "display_data"
    }
   ],
   "source": [
    "anc = QuantumRegister(n_anc, name=\"a\")\n",
    "syst = QuantumRegister(N, name=\"q\")\n",
    "cbits = ClassicalRegister(2, name=\"cbits\")\n",
    "\n",
    "cbits_flag = False\n",
    "if cbits_flag:\n",
    "    qc = QuantumCircuit(anc, syst, cbits)\n",
    "else:\n",
    "    qc = QuantumCircuit(anc, syst)\n",
    "\n",
    "# initialize system qubits\n",
    "qc.initialize([1/2, 1/2, 1/2, 1/2], [2, 3])\n",
    "\n",
    "# setup gates for ancillary qubits\n",
    "qc.ry(alpha, 0)\n",
    "qc.ry(beta, 1)\n",
    "qc.cx(0, 1, ctrl_state=0)\n",
    "qc.crz(gamma, control_qubit=0, target_qubit=1)\n",
    "\n",
    "# setup gates for system qubits\n",
    "H = get_hamilt_op(N, 0.)\n",
    "dt = 1\n",
    "\n",
    "evo = PauliEvolutionGate(H, -dt).control(1)\n",
    "qc.append(evo, [0, 2, 3]) # control on qubit 0 and act on qubits 2 and 3\n",
    "\n",
    "evo = PauliEvolutionGate(H, 2 * dt).control(2)\n",
    "qc.append(evo, [0, 1, 2, 3]) # control on qubits 0 and 1 and act on qubits 2 and 3\n",
    "\n",
    "# setup measurement gates\n",
    "qc.h([0, 1])\n",
    "print(qc)\n",
    "\n",
    "# perform measurement and collect samples of the \n",
    "# system state on the subspace |00> of the \n",
    "# ancillary system\n",
    "qc.measure_all()\n",
    "\n",
    "results = execute(qc, backend=backend, num_shots=num_shots)\n",
    "counts = results.result().get_counts()\n",
    "\n",
    "evo_state_dict = {}\n",
    "\n",
    "for k, v in counts.items():\n",
    "    pieces = list(k)\n",
    "\n",
    "    if pieces[-1] == '0' and pieces[-2] == '0':\n",
    "        k_new = pieces[0] + pieces[1]\n",
    "        \n",
    "        evo_state_dict[k_new] = v\n",
    "\n",
    "states = evo_state_dict.keys()\n",
    "counts = evo_state_dict.values()\n",
    "\n",
    "print(counts)\n",
    "plt.bar(states, counts);"
   ]
  }
 ],
 "metadata": {
  "kernelspec": {
   "display_name": ".venv",
   "language": "python",
   "name": "python3"
  },
  "language_info": {
   "codemirror_mode": {
    "name": "ipython",
    "version": 3
   },
   "file_extension": ".py",
   "mimetype": "text/x-python",
   "name": "python",
   "nbconvert_exporter": "python",
   "pygments_lexer": "ipython3",
   "version": "3.11.6"
  }
 },
 "nbformat": 4,
 "nbformat_minor": 2
}
