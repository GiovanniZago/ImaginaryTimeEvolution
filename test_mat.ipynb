{
 "cells": [
  {
   "cell_type": "code",
   "execution_count": 48,
   "metadata": {},
   "outputs": [],
   "source": [
    "from qiskit.circuit.library import RYGate, RZGate, CXGate, CRZGate\n",
    "from qiskit.quantum_info import SparsePauliOp\n",
    "\n",
    "import numpy as np\n",
    "import scipy\n"
   ]
  },
  {
   "cell_type": "code",
   "execution_count": 80,
   "metadata": {},
   "outputs": [
    {
     "name": "stdout",
     "output_type": "stream",
     "text": [
      "[[-0.707+0.707j  0.   +0.j     0.   +0.j     0.   +0.j   ]\n",
      " [ 0.   +0.j     1.   +0.j     0.   +0.j     0.   +0.j   ]\n",
      " [ 0.   +0.j     0.   +0.j    -0.707-0.707j  0.   +0.j   ]\n",
      " [ 0.   +0.j     0.   +0.j     0.   +0.j     1.   +0.j   ]]\n"
     ]
    }
   ],
   "source": [
    "alpha = 2 * np.arctan(np.sqrt(0.5))\n",
    "beta = 0.5 * np.pi\n",
    "gamma = -1.5 * np.pi\n",
    "\n",
    "ry_alpha = np.kron(RYGate(alpha).to_matrix(), np.eye(2))\n",
    "ry_beta = np.kron(np.eye(2), RYGate(beta).to_matrix())\n",
    "# rz_gamma = np.kron(np.eye(2), RZGate(gamma).to_matrix())\n",
    "zero_not = CXGate(ctrl_state=0).to_matrix()\n",
    "crz = CRZGate(gamma, ctrl_state=0).to_matrix()\n",
    "\n",
    "print(crz)\n",
    "# qc.crz(gamma, control_qubit=0, target_qubit=1)\n",
    "\n",
    "\n",
    "np.set_printoptions(precision=3)\n",
    "# print(ry_alpha)\n",
    "# print(ry_beta)\n",
    "# print(rz_gamma)"
   ]
  },
  {
   "cell_type": "code",
   "execution_count": 41,
   "metadata": {},
   "outputs": [
    {
     "name": "stdout",
     "output_type": "stream",
     "text": [
      "[0.577+0.j 0.577+0.j 0.408+0.j 0.408+0.j]\n",
      "[0.408+0.j 0.577+0.j 0.577+0.j 0.408+0.j]\n",
      "[-0.289+0.289j  0.577+0.j    -0.408-0.408j  0.408+0.j   ]\n"
     ]
    }
   ],
   "source": [
    "step1 = (ry_alpha @ ry_beta) @ np.array([1, 0, 0, 0])\n",
    "# step2 = zero_not @ step1\n",
    "step2 = step1 @ zero_not\n",
    "step3 = crz @ step2\n",
    "\n",
    "print(step1)\n",
    "print(step2)\n",
    "print(step3)"
   ]
  },
  {
   "cell_type": "code",
   "execution_count": 102,
   "metadata": {},
   "outputs": [
    {
     "name": "stdout",
     "output_type": "stream",
     "text": [
      "[[ 1. +0.j  0.5+0.j  0.5+0.j  0. +0.j]\n",
      " [ 0.5+0.j -1. +0.j  0. +0.j  0.5+0.j]\n",
      " [ 0.5+0.j  0. +0.j -1. +0.j  0.5+0.j]\n",
      " [ 0. +0.j  0.5+0.j  0.5+0.j  1. +0.j]]\n",
      "[ 3.48123e-01+0.76996j -4.33681e-18+0.34923j -8.67362e-18+0.34923j\n",
      " -1.92179e-01-0.07151j] [0.845   0.34923 0.34923 0.20505] [0.71403 0.12196 0.12196 0.04205]\n"
     ]
    }
   ],
   "source": [
    "np.set_printoptions(precision=5)\n",
    "def get_hamilt_op(N, lambd):\n",
    "    hlist = []\n",
    "    coeffs = []\n",
    "    \n",
    "    for i in range(N - 1):\n",
    "        text = \"I\" * i + \"ZZ\" + \"I\" * (N - i - 2)\n",
    "        hlist.append(text)\n",
    "        coeffs.append(1)\n",
    "\n",
    "    if lambd:\n",
    "        for i in range(N):\n",
    "            text = \"I\" * i + \"X\" + \"I\" * (N - i - 1)\n",
    "            hlist.append(text)\n",
    "            coeffs.append(lambd)\n",
    "\n",
    "    return SparsePauliOp(hlist, coeffs=coeffs)\n",
    "\n",
    "ham = get_hamilt_op(2, 0.5).to_matrix()\n",
    "print(ham)\n",
    "\n",
    "evop1 = scipy.linalg.expm(ham * 1j)\n",
    "evop2 = scipy.linalg.expm(ham * -2j)\n",
    "\n",
    "\n",
    "avt1 = np.array([1, 0, 0, 0])# / np.sqrt(2)\n",
    "stage1 = evop1 @ avt1\n",
    "print(stage1, np.abs(stage1), np.abs(stage1)**2)\n",
    "stage2 = evop2 @ stage1\n",
    "\n",
    "# print(stage2, np.abs(stage2), np.abs(stage2)**2)\n",
    "\n",
    "# print(evop2 @ np.array([1, 0, 0, 0]), np.abs(evop2 @ np.array([1, 0, 0, 0])), np.abs(evop2 @ np.array([1, 0, 0, 0]))**2)\n",
    "\n",
    "# (evop2) @ np.array([1, 1, 1, 1]) * 0.5\n"
   ]
  }
 ],
 "metadata": {
  "kernelspec": {
   "display_name": "venv",
   "language": "python",
   "name": "python3"
  },
  "language_info": {
   "codemirror_mode": {
    "name": "ipython",
    "version": 3
   },
   "file_extension": ".py",
   "mimetype": "text/x-python",
   "name": "python",
   "nbconvert_exporter": "python",
   "pygments_lexer": "ipython3",
   "version": "3.11.5"
  }
 },
 "nbformat": 4,
 "nbformat_minor": 2
}
